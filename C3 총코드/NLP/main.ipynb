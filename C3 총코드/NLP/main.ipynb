{
 "cells": [
  {
   "cell_type": "code",
   "execution_count": 25,
   "id": "61c52b26",
   "metadata": {},
   "outputs": [
    {
     "name": "stdout",
     "output_type": "stream",
     "text": [
      "Say something!\n",
      "result2:\n",
      "{   'alternative': [   {'confidence': 0.3985019, 'transcript': '보리야'},\n",
      "                       {'transcript': '소리야'},\n",
      "                       {'transcript': '불이야'},\n",
      "                       {'transcript': '코리아'},\n",
      "                       {'transcript': '솔이야'}],\n",
      "    'final': True}\n",
      "Say something!\n",
      "result2:\n",
      "{   'alternative': [   {'confidence': 0.8214162, 'transcript': '들어가 줘'},\n",
      "                       {'transcript': '들어가죠'},\n",
      "                       {'transcript': '가 줘'}],\n",
      "    'final': True}\n"
     ]
    }
   ],
   "source": [
    "#!/usr/bin/env python\n",
    "# coding: utf-8\n",
    "\n",
    "# In[4]:\n",
    "\n",
    "\n",
    "#!/usr/bin/env python\n",
    "# coding: utf-8\n",
    "\n",
    "import speech as stt\n",
    "#from store import STT\n",
    "import os\n",
    "import pygame\n",
    "import time\n",
    "\n",
    "credential_path=r\"/home/piai/STT/stt-first-371011-b05925abc00c.json\"\n",
    "os.environ[\"GOOGLE_APPLICATION_CREDENTIALS\"]=credential_path\n",
    "\n",
    "text=stt.STT_main()\n",
    "cmd_list1=[\"포리야\",\"코리야\",\"우리야\",\"우리아\",\"코리아\",\"프리야\",\"보리아\",\"콜이야\",\"솔이야\",\"소리야\",\"토리야\",\"보리야\",\"소리 야\",\"불이야\",\"포리아\",\"꼴이야\",\"오리야\"]\n",
    "\n",
    "if text in cmd_list1:\n",
    "    command1=\"포리야\"\n",
    "\n",
    "audio1=command1+\".mp3\"\n",
    "pygame.mixer.init()\n",
    "pygame.mixer.music.load(audio1)\n",
    "pygame.mixer.music.play()\n",
    "\n",
    "time.sleep(2)\n",
    "text=stt.STT_main()\n",
    "cmd_list2=[\"일구역\",\"1구역\",\"일 구역\",\"1 구역으로가 줘\",\"일 구역으로가 줘\",\"일구 역으로가 줘\",\"1구역 가 줘\",\"1구 역으로가 줘\",\"1구역으로가 줘\",\"1구역으로 가줘\",\"1구역으로 가줄래\",\"일 구역으로 가줘\",\"1구역으로 가자\",\"일부 약으로가 줘\",\"1부 역으로가 줘\",\"일 구역으로가 줘\"]\n",
    "cmd_list3=[\"이구역\",\"이 구역\",\"2구역\",\"2구역 가 줘\",\"2구 역으로가 줘\",\"이고 역으로가 줘\",\"이거 역으로가 줘\",\"2구역으로가 줘\",\"2구역으로가 줘\",\"2구역으로 가줘\",\"2구역으로 가줄래\",\"이 구역으로 가줘\",\"2구역으로 가자\"]\n",
    "cmd_list4=[\"삼구역\",\"3구역\",\"삼 구역\",\"3 구역\",\"3구역 가 줘\",\"3구 역으로가 줘\",\"삼구 역으로 가자\",\"3 구역으로 가자\",\"3부 역으로 가자\",\"3구역으로가 줘\",\"3구역으로 가줘\",\"3구역으로 가줄래\",\"삼 구역으로 가줘\",\"3구역으로 가자\"]\n",
    "cmd_list5=[\"사구역\",\"4구역\",\"사 구역\",\"4 구역\",\"4구역으로 가져\",\"4구역으로가 줘\",\"4 구역으로 가죠\",\"4구역으로 가자\",'사고 역으로가 줘',\"4구 역으로가 줘\",\"4구역으로가 줘\",\"4구역으로 가줘\",\"4구역으로 가줄래\",\"사 구역으로 가줘\",\"4구역으로 가자\"]\n",
    "\n",
    "if text in cmd_list2:\n",
    "    command2=\"1구역\"\n",
    "elif text in cmd_list3:\n",
    "    command2=\"2구역\"\n",
    "elif text in cmd_list4:\n",
    "    command2=\"3구역\"\n",
    "elif text in cmd_list5:\n",
    "    command2=\"4구역\"\n",
    "\n",
    "audio2=command2+\".mp3\"\n",
    "pygame.mixer.init()\n",
    "pygame.mixer.music.load(audio2)\n",
    "pygame.mixer.music.play()\n",
    "\n",
    "time.sleep(2)"
   ]
  },
  {
   "cell_type": "code",
   "execution_count": null,
   "id": "378708cc",
   "metadata": {},
   "outputs": [],
   "source": []
  }
 ],
 "metadata": {
  "kernelspec": {
   "display_name": "Python 3",
   "language": "python",
   "name": "python3"
  },
  "language_info": {
   "codemirror_mode": {
    "name": "ipython",
    "version": 3
   },
   "file_extension": ".py",
   "mimetype": "text/x-python",
   "name": "python",
   "nbconvert_exporter": "python",
   "pygments_lexer": "ipython3",
   "version": "3.8.8"
  }
 },
 "nbformat": 4,
 "nbformat_minor": 5
}
