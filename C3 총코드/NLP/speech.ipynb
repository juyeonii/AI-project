{
 "cells": [
  {
   "cell_type": "code",
   "execution_count": 8,
   "id": "e6aaedb8",
   "metadata": {},
   "outputs": [],
   "source": [
    "#!pip install SpeechRecognition"
   ]
  },
  {
   "cell_type": "code",
   "execution_count": 11,
   "id": "8685fdc1",
   "metadata": {},
   "outputs": [],
   "source": [
    "#!pip install PyAudio"
   ]
  },
  {
   "cell_type": "code",
   "execution_count": 10,
   "id": "9f1a348e",
   "metadata": {},
   "outputs": [
    {
     "name": "stdout",
     "output_type": "stream",
     "text": [
      "Say something!\n",
      "result2:\n",
      "{   'alternative': [   {   'confidence': 0.55603677,\n",
      "                           'transcript': '안녕하세요 사과가 있는데 뭐 있지 않아 오늘 거'},\n",
      "                       {'transcript': '안녕하세요 사과가 있는데 아 진짜 나오는 거'},\n",
      "                       {'transcript': '안녕하세요 사과가 있는데 아 진짜 나오네 이거'},\n",
      "                       {'transcript': '안녕하세요 사과가 있는데 아 진짜 나오네 거'},\n",
      "                       {'transcript': '안녕하세요 사과가 있는데 뭐 있잖아 오늘 거'}],\n",
      "    'final': True}\n"
     ]
    }
   ],
   "source": [
    "#!/usr/bin/env python\n",
    "# coding: utf-8\n",
    "\n",
    "# In[35]:\n",
    "\n",
    "\n",
    "#!/usr/bin/env python3\n",
    "# Requires PyAudio and PySpeech.http://localhost:8890/edit/%EB%8B%A4%EC%9A%B4%EB%A1%9C%EB%93%9C/sinju/speech.py#\n",
    "\n",
    "def STT_main():\n",
    "    import speech_recognition as sr\n",
    "    # Record Audio \n",
    "    f=open(\"ask.txt\",\"w\")\n",
    "    r = sr.Recognizer()\n",
    "    try:\n",
    "        with sr.Microphone() as source:\n",
    "            print(\"Say something!\")\n",
    "            audio = r.listen(source)\n",
    "        STT1=r.recognize_google(audio,language=\"ko\")\n",
    "       # print(STT)\n",
    "        f.write(STT1+\"\\n\")\n",
    "        f.close()\n",
    "    # Seech recognition using Google Speech Recognition\n",
    "    # for testing purposes, we're just using the default API key\n",
    "    # to use another API key, use `r.recognize_google(audio, key=\"GOOGLE_SPEECH_RECOGNITION_API_KEY\")`\n",
    "    # instead of `r.recognize_google(audio)\n",
    "    except sr.UnknownValueError:\n",
    "        print(\"다시 말하세요\")\n",
    "    except sr.RequestError as e:\n",
    "        print(\"잘못된 입력; {0}\".format(e))"
   ]
  },
  {
   "cell_type": "code",
   "execution_count": null,
   "id": "cc829f9d",
   "metadata": {},
   "outputs": [],
   "source": []
  }
 ],
 "metadata": {
  "kernelspec": {
   "display_name": "Python 3",
   "language": "python",
   "name": "python3"
  },
  "language_info": {
   "codemirror_mode": {
    "name": "ipython",
    "version": 3
   },
   "file_extension": ".py",
   "mimetype": "text/x-python",
   "name": "python",
   "nbconvert_exporter": "python",
   "pygments_lexer": "ipython3",
   "version": "3.8.8"
  }
 },
 "nbformat": 4,
 "nbformat_minor": 5
}
