{
 "cells": [
  {
   "cell_type": "code",
   "execution_count": 1,
   "id": "b9e645ed",
   "metadata": {},
   "outputs": [],
   "source": [
    "#!pip install google"
   ]
  },
  {
   "cell_type": "code",
   "execution_count": 2,
   "id": "0c2436b1",
   "metadata": {},
   "outputs": [],
   "source": [
    "#!pip install google-cloud-texttospeech"
   ]
  },
  {
   "cell_type": "code",
   "execution_count": 19,
   "id": "eaf0c7d4",
   "metadata": {},
   "outputs": [
    {
     "name": "stdout",
     "output_type": "stream",
     "text": [
      "- 포리야 - 전달받은 파라미터\n",
      "무슨 구역으로 이동할까요.\n",
      "Audio content written to file \"output.mp3\"\n"
     ]
    },
    {
     "data": {
      "text/plain": [
       "'무슨 구역으로 이동할까요.'"
      ]
     },
     "execution_count": 19,
     "metadata": {},
     "output_type": "execute_result"
    }
   ],
   "source": [
    "# -*- coding: utf-8 -*-\n",
    "\n",
    "#!/usr/bin/env python\n",
    "\n",
    "# Copyright 2018 Google Inc. All Rights Reserved.\n",
    "#\n",
    "# Licensed under the Apache License, Version 2.0 (the \"License\");\n",
    "# you may not use this file except in compliance with the License.\n",
    "# You may obtain a copy of the License at\n",
    "#\n",
    "#      http://www.apache.org/licenses/LICENSE-2.0\n",
    "#\n",
    "# Unless required by applicable law or agreed to in writing, software\n",
    "# distributed under the License is distributed on an \"AS IS\" BASIS,\n",
    "# WITHOUT WARRANTIES OR CONDITIONS OF ANY KIND, either express or implied.\n",
    "# See the License for the specific language governing permissions and\n",
    "# limitations under the License.\n",
    "\n",
    "\"\"\"Google Cloud Text-To-Speech API sample application .\n",
    "Example usage:\n",
    "    python quickstart.py\n",
    "\"\"\"\n",
    "import os\n",
    "\n",
    "credential_path=r\"C:/Users/sinju/Downloads/top-chassis-371917-3d24a7b8ca3f.json\"\n",
    "os.environ[\"GOOGLE_APPLICATION_CREDENTIALS\"]=credential_path\n",
    "\n",
    "\n",
    "def run_quickstart(transfer):\n",
    "    # [START tts_quickstart]\n",
    "    \"\"\"Synthesizes speech from the input string of text or ssml.\n",
    "    Note: ssml must be well-formed according to:\n",
    "        https://www.w3.org/TR/speech-synthesis/\n",
    "    \"\"\"\n",
    "    from google.cloud import texttospeech\n",
    "\n",
    "    # Instantiates a client\n",
    "    client = texttospeech.TextToSpeechClient()\n",
    "\n",
    "\n",
    "    print(\"-\",transfer,\"-\",\"전달받은 파라미터\")\n",
    "    \n",
    "    #s = transfer ###\n",
    "    if transfer == '포리야':\n",
    "        s = \"무슨 구역으로 이동할까요.\"\n",
    "    elif transfer == '1구역':\n",
    "        s = \"1구역으로 이동하겠습니다.\"\n",
    "    elif transfer == '2구역':\n",
    "        s = \"2구역으로 이동하겠습니다.\"\n",
    "    elif transfer == '3구역':\n",
    "        s = \"3구역으로 이동하겠습니다.\"\n",
    "    elif transfer == '4구역':\n",
    "        s = \"4구역으로 이동하겠습니다.\"\n",
    "    else:\n",
    "        s = \"죄송하지만 알아듣지 못했어요.\"\n",
    "\n",
    "    print(s)\n",
    "    \n",
    "    # Set the text input to be synthesized\n",
    "    synthesis_input = texttospeech.SynthesisInput(text=s)\n",
    "    \n",
    "    # Build the voice request, select the language code (\"en-US\") and the ssml\n",
    "    # voice gender (\"neutral\")\n",
    "    voice = texttospeech.VoiceSelectionParams(\n",
    "        language_code=\"ko-KR\", ssml_gender=texttospeech.SsmlVoiceGender.NEUTRAL\n",
    "    )\n",
    "\n",
    "    # Select the type of audio file you want returned\n",
    "    audio_config = texttospeech.AudioConfig(\n",
    "        audio_encoding=texttospeech.AudioEncoding.MP3\n",
    "    )\n",
    "\n",
    "    # Perform the text-to-speech request on the text input with the selected\n",
    "    # voice parameters and audio file type\n",
    "    response = client.synthesize_speech(\n",
    "        input=synthesis_input, voice=voice, audio_config=audio_config\n",
    "    )\n",
    "\n",
    "    # OUTPUT = input(\"output.mp3\")  #apple.mp3\n",
    "\n",
    "    \n",
    "    # The response's audio_content is binary.\n",
    "    with open(s+\".mp3\", \"wb\") as out:\n",
    "        \n",
    "        # wb : binary 형태를 읽어주는 w는 이미 있는 파일 삭제하고 새로 실행\n",
    "\n",
    "        # Write the response to the output file.\n",
    "        out.write(response.audio_content)\n",
    "        print('Audio content written to file \"output.mp3\"')\n",
    "\n",
    "    return s\n",
    "    # [END tts_quickstart]\n",
    "run_quickstart(\"포리야\")\n",
    "\n",
    "#\"\"\"if __name__ == \"__main__\":\n",
    "#    run_quickstart(transfer)\n",
    "#\"\"\"\n"
   ]
  },
  {
   "cell_type": "code",
   "execution_count": null,
   "id": "df90e089",
   "metadata": {},
   "outputs": [],
   "source": []
  },
  {
   "cell_type": "code",
   "execution_count": null,
   "id": "fc766b6b",
   "metadata": {},
   "outputs": [],
   "source": []
  },
  {
   "cell_type": "code",
   "execution_count": null,
   "id": "0ad6e795",
   "metadata": {},
   "outputs": [],
   "source": []
  }
 ],
 "metadata": {
  "kernelspec": {
   "display_name": "Python 3",
   "language": "python",
   "name": "python3"
  },
  "language_info": {
   "codemirror_mode": {
    "name": "ipython",
    "version": 3
   },
   "file_extension": ".py",
   "mimetype": "text/x-python",
   "name": "python",
   "nbconvert_exporter": "python",
   "pygments_lexer": "ipython3",
   "version": "3.8.8"
  }
 },
 "nbformat": 4,
 "nbformat_minor": 5
}
