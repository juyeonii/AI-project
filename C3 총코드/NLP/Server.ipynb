{
 "cells": [
  {
   "cell_type": "code",
   "execution_count": null,
   "id": "a9a1ed26",
   "metadata": {},
   "outputs": [],
   "source": [
    "import socket\n",
    "HOST=\n",
    "#Server IP or Hostname\n",
    "PORT=\n",
    "#Pick an open PORT(1000+recommended),must match the client sport\n",
    "s = socket.socket(socket.AF_INET, socket.SOCK_STREAM)\n",
    "print 'Socket created'\n",
    "\n",
    "#managing error exception\n",
    "try:\n",
    "\ts.bind((HOST, PORT))\n",
    "except socket.error:\n",
    "\tprint 'Bind failed '\n",
    "\n",
    "s.listen(5)\n",
    "print 'Socket awaiting messages'\n",
    "(conn, addr) = s.accept()\n",
    "print 'Connected'\n",
    "\n",
    "# awaiting for message\n",
    "while True:\n",
    "\tdata = conn.recv(1024)\n",
    "\tprint 'I sent a message back in response to: ' + data\n",
    "\treply = ''\n",
    "\n",
    "\t# process your message\n",
    "\tif data == 'Hello':\n",
    "\t\treply = 'Hi, back!'\n",
    "\telif data == 'This is important':\n",
    "\t\treply = 'OK, I have done the important thing you have asked me!'\n",
    "\t#and so on and on until...\n",
    "\telif data == 'quit':\n",
    "\t\tconn.send('Terminating')\n",
    "\t\tbreak\n",
    "\telse:\n",
    "\t\treply = 'Unknown command'\n",
    "\n",
    "\t# Sending reply\n",
    "\tconn.send(reply)\n",
    "conn.close() \n",
    "# Close connections"
   ]
  }
 ],
 "metadata": {
  "kernelspec": {
   "display_name": "Python 3",
   "language": "python",
   "name": "python3"
  },
  "language_info": {
   "codemirror_mode": {
    "name": "ipython",
    "version": 3
   },
   "file_extension": ".py",
   "mimetype": "text/x-python",
   "name": "python",
   "nbconvert_exporter": "python",
   "pygments_lexer": "ipython3",
   "version": "3.8.8"
  }
 },
 "nbformat": 4,
 "nbformat_minor": 5
}
