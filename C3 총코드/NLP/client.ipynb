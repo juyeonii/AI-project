{
 "cells": [
  {
   "cell_type": "code",
   "execution_count": null,
   "id": "023915d0",
   "metadata": {},
   "outputs": [],
   "source": [
    "import socket\n",
    "HOST=\n",
    "#Enter IP or Hostname of your server\n",
    "PORT=\n",
    "#Pick an open Port(1000+recommended),must match the server port\n",
    "s=socket.socket(socket.AF_INET,socket.SOCK_STREAM)\n",
    "s.connect((HOST,PORT))\n",
    "\n",
    "#Lets loop awaiting for your input\n",
    "while True:\n",
    "    command=raw_input(\"Enter your command: \")\n",
    "    s.send(command)\n",
    "    reply=s.recv(1024)\n",
    "    if reply==\"Terminate\":\n",
    "        break\n",
    "    print reply"
   ]
  },
  {
   "cell_type": "code",
   "execution_count": null,
   "id": "b7584368",
   "metadata": {},
   "outputs": [],
   "source": [
    "if PM>=30:\n",
    "    return /\n",
    "\n",
    "#3분동안 돌릴거면 180초\n",
    "pm=입력받은 pm값\n",
    "f=open(\"pm.txt\",\"w\")\n",
    "f.write(pm)\n",
    "f.close()\n",
    "time.sleep(180)\n",
    "->이거 다시 업데이트 해야하는거 아님? \n",
    "\n",
    "\n",
    "#제어쪽에서 해야하는건가. 모르겟어요 \n",
    "f=open(\"pm.txt\",\"r\")\n",
    "pm=f.readline()\n",
    "if pm>"
   ]
  }
 ],
 "metadata": {
  "kernelspec": {
   "display_name": "Python 3",
   "language": "python",
   "name": "python3"
  },
  "language_info": {
   "codemirror_mode": {
    "name": "ipython",
    "version": 3
   },
   "file_extension": ".py",
   "mimetype": "text/x-python",
   "name": "python",
   "nbconvert_exporter": "python",
   "pygments_lexer": "ipython3",
   "version": "3.8.8"
  }
 },
 "nbformat": 4,
 "nbformat_minor": 5
}
